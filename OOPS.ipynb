{
 "cells": [
  {
   "cell_type": "code",
   "execution_count": 6,
   "id": "e612b629-04fe-43e6-b1e6-443dabde7d06",
   "metadata": {},
   "outputs": [
    {
     "name": "stdout",
     "output_type": "stream",
     "text": [
      "i5. 16gb, 256gb\n",
      "i5. 16gb, 256gb\n",
      "i5. 16gb, 256gb\n",
      "i5. 16gb, 256gb\n"
     ]
    }
   ],
   "source": [
    "class Computer: # human\n",
    "    def config(self): #fn in class called methods # property like action\n",
    "        print(\"i5. 16gb, 256gb\")\n",
    "\n",
    "comp1 = Computer() # ravi muskesh\n",
    "comp2 = Computer()\n",
    "# i = 3\n",
    "# print(type(comp1))\n",
    "# print(type(i)) #i ypthon int str etc is a predefined class and i = 3 is the instance of the class\n",
    "Computer.config(comp1) # hey humann walk in the bracket we are passing name of peron like ravi mukesh\n",
    "Computer.config(comp2)\n",
    "comp1.config()\n",
    "comp2.config()"
   ]
  },
  {
   "cell_type": "code",
   "execution_count": 10,
   "id": "3d140f8f-d614-4692-bc99-4f78704ffd9e",
   "metadata": {},
   "outputs": [
    {
     "name": "stdout",
     "output_type": "stream",
     "text": [
      "config is i5 16\n",
      "config is ryzen 3 8\n"
     ]
    }
   ],
   "source": [
    "class Computer: # human\n",
    "    def __init__(self, cpu, ram):\n",
    "        self.cpu = cpu\n",
    "        self.ram = ram\n",
    "        \n",
    "    def config(self): #fn in class called methods # property like action\n",
    "        print(\"config is\", self.cpu, self.ram)\n",
    "\n",
    "comp1 = Computer('i5', 16) # ravi muskesh  #init is coming auto when object is being created\n",
    "comp2 = Computer('ryzen 3', 8)\n",
    "\n",
    "comp1.config()\n",
    "comp2.config()"
   ]
  }
 ],
 "metadata": {
  "kernelspec": {
   "display_name": "Python 3 (ipykernel)",
   "language": "python",
   "name": "python3"
  },
  "language_info": {
   "codemirror_mode": {
    "name": "ipython",
    "version": 3
   },
   "file_extension": ".py",
   "mimetype": "text/x-python",
   "name": "python",
   "nbconvert_exporter": "python",
   "pygments_lexer": "ipython3",
   "version": "3.12.7"
  }
 },
 "nbformat": 4,
 "nbformat_minor": 5
}
